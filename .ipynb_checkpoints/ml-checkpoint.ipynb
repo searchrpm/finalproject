{
 "cells": [
  {
   "cell_type": "code",
   "execution_count": null,
   "metadata": {},
   "outputs": [],
   "source": [
    "# !tar -zxvf archive.tar.gz"
   ]
  },
  {
   "cell_type": "code",
   "execution_count": 1,
   "metadata": {},
   "outputs": [],
   "source": [
    "%matplotlib inline\n",
    "import matplotlib.pyplot as plt\n",
    "import numpy as np\n",
    "import os"
   ]
  },
  {
   "cell_type": "code",
   "execution_count": 2,
   "metadata": {},
   "outputs": [
    {
     "name": "stderr",
     "output_type": "stream",
     "text": [
      "Using TensorFlow backend.\n"
     ]
    }
   ],
   "source": [
    "from keras.applications.vgg19 import (\n",
    "    VGG19, preprocess_input, decode_predictions)\n",
    "\n",
    "from keras.models import Sequential\n",
    "from keras.layers import Dense, Activation, Flatten\n",
    "from keras.layers import merge, Input\n",
    "from keras.models import Model\n",
    "from keras.utils import to_categorical, np_utils\n",
    "from sklearn.utils import shuffle\n",
    "from sklearn.model_selection import train_test_split"
   ]
  },
  {
   "cell_type": "code",
   "execution_count": 15,
   "metadata": {},
   "outputs": [],
   "source": [
    "import data"
   ]
  },
  {
   "cell_type": "code",
   "execution_count": null,
   "metadata": {},
   "outputs": [],
   "source": [
    "#data.train_path = \"ml_data/train\"\n",
    "#data.test_path = \"ml_data/test\"\n",
    "#folder_names = [\"Temple Mount\", \"Pyramids of Giza\"]"
   ]
  },
  {
   "cell_type": "code",
   "execution_count": 19,
   "metadata": {},
   "outputs": [],
   "source": [
    "data.train_path=\"downloads/train\"\n",
    "data.test_path=\"downloads/test\"\n",
    "folder_names = [\"temple mount\", \"pyramids of giza\"]"
   ]
  },
  {
   "cell_type": "code",
   "execution_count": 20,
   "metadata": {},
   "outputs": [
    {
     "name": "stdout",
     "output_type": "stream",
     "text": [
      "downloads/train/pyramids of giza/*\n",
      "Loaded the images of dataset-pyramids of giza\n",
      "\n",
      "downloads/train/temple mount/*\n",
      "Loaded the images of dataset-temple mount\n",
      "\n"
     ]
    }
   ],
   "source": [
    "X_train, Y_train = data.get_images(data.train_path, folder_names)"
   ]
  },
  {
   "cell_type": "code",
   "execution_count": 21,
   "metadata": {},
   "outputs": [
    {
     "name": "stdout",
     "output_type": "stream",
     "text": [
      "downloads/test/pyramids of giza/*\n",
      "Loaded the images of dataset-pyramids of giza\n",
      "\n",
      "downloads/test/temple mount/*\n",
      "Loaded the images of dataset-temple mount\n",
      "\n"
     ]
    }
   ],
   "source": [
    "X_test, Y_test = data.get_images(test_path, folder_names)"
   ]
  },
  {
   "cell_type": "code",
   "execution_count": 22,
   "metadata": {},
   "outputs": [
    {
     "data": {
      "text/plain": [
       "(40, 2)"
      ]
     },
     "execution_count": 22,
     "metadata": {},
     "output_type": "execute_result"
    }
   ],
   "source": [
    "Y_train.shape"
   ]
  },
  {
   "cell_type": "code",
   "execution_count": 23,
   "metadata": {},
   "outputs": [
    {
     "data": {
      "text/plain": [
       "(10, 2)"
      ]
     },
     "execution_count": 23,
     "metadata": {},
     "output_type": "execute_result"
    }
   ],
   "source": [
    "Y_test.shape"
   ]
  },
  {
   "cell_type": "code",
   "execution_count": 24,
   "metadata": {},
   "outputs": [
    {
     "name": "stdout",
     "output_type": "stream",
     "text": [
      "Downloading data from https://github.com/fchollet/deep-learning-models/releases/download/v0.1/vgg19_weights_tf_dim_ordering_tf_kernels.h5\n",
      "574717952/574710816 [==============================] - 93s 0us/step\n",
      "Model: \"vgg19\"\n",
      "_________________________________________________________________\n",
      "Layer (type)                 Output Shape              Param #   \n",
      "=================================================================\n",
      "input_1 (InputLayer)         (None, 224, 224, 3)       0         \n",
      "_________________________________________________________________\n",
      "block1_conv1 (Conv2D)        (None, 224, 224, 64)      1792      \n",
      "_________________________________________________________________\n",
      "block1_conv2 (Conv2D)        (None, 224, 224, 64)      36928     \n",
      "_________________________________________________________________\n",
      "block1_pool (MaxPooling2D)   (None, 112, 112, 64)      0         \n",
      "_________________________________________________________________\n",
      "block2_conv1 (Conv2D)        (None, 112, 112, 128)     73856     \n",
      "_________________________________________________________________\n",
      "block2_conv2 (Conv2D)        (None, 112, 112, 128)     147584    \n",
      "_________________________________________________________________\n",
      "block2_pool (MaxPooling2D)   (None, 56, 56, 128)       0         \n",
      "_________________________________________________________________\n",
      "block3_conv1 (Conv2D)        (None, 56, 56, 256)       295168    \n",
      "_________________________________________________________________\n",
      "block3_conv2 (Conv2D)        (None, 56, 56, 256)       590080    \n",
      "_________________________________________________________________\n",
      "block3_conv3 (Conv2D)        (None, 56, 56, 256)       590080    \n",
      "_________________________________________________________________\n",
      "block3_conv4 (Conv2D)        (None, 56, 56, 256)       590080    \n",
      "_________________________________________________________________\n",
      "block3_pool (MaxPooling2D)   (None, 28, 28, 256)       0         \n",
      "_________________________________________________________________\n",
      "block4_conv1 (Conv2D)        (None, 28, 28, 512)       1180160   \n",
      "_________________________________________________________________\n",
      "block4_conv2 (Conv2D)        (None, 28, 28, 512)       2359808   \n",
      "_________________________________________________________________\n",
      "block4_conv3 (Conv2D)        (None, 28, 28, 512)       2359808   \n",
      "_________________________________________________________________\n",
      "block4_conv4 (Conv2D)        (None, 28, 28, 512)       2359808   \n",
      "_________________________________________________________________\n",
      "block4_pool (MaxPooling2D)   (None, 14, 14, 512)       0         \n",
      "_________________________________________________________________\n",
      "block5_conv1 (Conv2D)        (None, 14, 14, 512)       2359808   \n",
      "_________________________________________________________________\n",
      "block5_conv2 (Conv2D)        (None, 14, 14, 512)       2359808   \n",
      "_________________________________________________________________\n",
      "block5_conv3 (Conv2D)        (None, 14, 14, 512)       2359808   \n",
      "_________________________________________________________________\n",
      "block5_conv4 (Conv2D)        (None, 14, 14, 512)       2359808   \n",
      "_________________________________________________________________\n",
      "block5_pool (MaxPooling2D)   (None, 7, 7, 512)         0         \n",
      "_________________________________________________________________\n",
      "flatten (Flatten)            (None, 25088)             0         \n",
      "_________________________________________________________________\n",
      "fc1 (Dense)                  (None, 4096)              102764544 \n",
      "_________________________________________________________________\n",
      "fc2 (Dense)                  (None, 4096)              16781312  \n",
      "_________________________________________________________________\n",
      "predictions (Dense)          (None, 1000)              4097000   \n",
      "=================================================================\n",
      "Total params: 143,667,240\n",
      "Trainable params: 143,667,240\n",
      "Non-trainable params: 0\n",
      "_________________________________________________________________\n"
     ]
    }
   ],
   "source": [
    "image_input = Input(shape=(224, 224, 3))\n",
    "\n",
    "vgg_model = VGG19(input_tensor=image_input, include_top=True, weights='imagenet')\n",
    "# vgg_model = VGG19(input_tensor=image_input, include_top=False, weights='imagenet')\n",
    "vgg_model.summary()"
   ]
  },
  {
   "cell_type": "code",
   "execution_count": 25,
   "metadata": {},
   "outputs": [],
   "source": [
    "X_train_features = vgg_model.predict(X_train)"
   ]
  },
  {
   "cell_type": "code",
   "execution_count": 26,
   "metadata": {},
   "outputs": [],
   "source": [
    "X_test_features = vgg_model.predict(X_test)"
   ]
  },
  {
   "cell_type": "code",
   "execution_count": 27,
   "metadata": {},
   "outputs": [],
   "source": [
    "feature_model = Sequential()\n",
    "feature_model.add(Dense(data.num_classes, activation=\"sigmoid\", input_shape=(1000,)))\n",
    "feature_model.compile(loss=\"categorical_crossentropy\", optimizer=\"adam\", metrics=[\"accuracy\"])"
   ]
  },
  {
   "cell_type": "code",
   "execution_count": 28,
   "metadata": {},
   "outputs": [
    {
     "name": "stdout",
     "output_type": "stream",
     "text": [
      "Train on 40 samples, validate on 10 samples\n",
      "Epoch 1/50\n",
      "40/40 [==============================] - 0s 8ms/step - loss: 0.6908 - accuracy: 0.6750 - val_loss: 0.6911 - val_accuracy: 0.5000\n",
      "Epoch 2/50\n",
      "40/40 [==============================] - 0s 175us/step - loss: 0.6902 - accuracy: 0.6750 - val_loss: 0.6905 - val_accuracy: 0.5000\n",
      "Epoch 3/50\n",
      "40/40 [==============================] - 0s 200us/step - loss: 0.6896 - accuracy: 0.6750 - val_loss: 0.6899 - val_accuracy: 0.5000\n",
      "Epoch 4/50\n",
      "40/40 [==============================] - 0s 225us/step - loss: 0.6890 - accuracy: 0.6750 - val_loss: 0.6893 - val_accuracy: 0.5000\n",
      "Epoch 5/50\n",
      "40/40 [==============================] - 0s 225us/step - loss: 0.6884 - accuracy: 0.6750 - val_loss: 0.6887 - val_accuracy: 0.5000\n",
      "Epoch 6/50\n",
      "40/40 [==============================] - 0s 175us/step - loss: 0.6878 - accuracy: 0.7000 - val_loss: 0.6881 - val_accuracy: 0.5000\n",
      "Epoch 7/50\n",
      "40/40 [==============================] - 0s 250us/step - loss: 0.6873 - accuracy: 0.7000 - val_loss: 0.6876 - val_accuracy: 0.5000\n",
      "Epoch 8/50\n",
      "40/40 [==============================] - 0s 300us/step - loss: 0.6867 - accuracy: 0.7000 - val_loss: 0.6870 - val_accuracy: 0.5000\n",
      "Epoch 9/50\n",
      "40/40 [==============================] - 0s 250us/step - loss: 0.6861 - accuracy: 0.7250 - val_loss: 0.6865 - val_accuracy: 0.5000\n",
      "Epoch 10/50\n",
      "40/40 [==============================] - 0s 225us/step - loss: 0.6855 - accuracy: 0.7250 - val_loss: 0.6859 - val_accuracy: 0.5000\n",
      "Epoch 11/50\n",
      "40/40 [==============================] - 0s 200us/step - loss: 0.6850 - accuracy: 0.7500 - val_loss: 0.6853 - val_accuracy: 0.5000\n",
      "Epoch 12/50\n",
      "40/40 [==============================] - 0s 275us/step - loss: 0.6844 - accuracy: 0.7750 - val_loss: 0.6848 - val_accuracy: 0.6000\n",
      "Epoch 13/50\n",
      "40/40 [==============================] - 0s 175us/step - loss: 0.6838 - accuracy: 0.8000 - val_loss: 0.6842 - val_accuracy: 0.6000\n",
      "Epoch 14/50\n",
      "40/40 [==============================] - 0s 250us/step - loss: 0.6833 - accuracy: 0.8000 - val_loss: 0.6837 - val_accuracy: 0.6000\n",
      "Epoch 15/50\n",
      "40/40 [==============================] - 0s 175us/step - loss: 0.6827 - accuracy: 0.8000 - val_loss: 0.6831 - val_accuracy: 0.8000\n",
      "Epoch 16/50\n",
      "40/40 [==============================] - 0s 251us/step - loss: 0.6821 - accuracy: 0.8500 - val_loss: 0.6825 - val_accuracy: 0.8000\n",
      "Epoch 17/50\n",
      "40/40 [==============================] - 0s 225us/step - loss: 0.6816 - accuracy: 0.8750 - val_loss: 0.6819 - val_accuracy: 1.0000\n",
      "Epoch 18/50\n",
      "40/40 [==============================] - 0s 225us/step - loss: 0.6810 - accuracy: 0.9000 - val_loss: 0.6814 - val_accuracy: 1.0000\n",
      "Epoch 19/50\n",
      "40/40 [==============================] - 0s 200us/step - loss: 0.6804 - accuracy: 0.9250 - val_loss: 0.6808 - val_accuracy: 1.0000\n",
      "Epoch 20/50\n",
      "40/40 [==============================] - 0s 250us/step - loss: 0.6799 - accuracy: 0.9250 - val_loss: 0.6802 - val_accuracy: 1.0000\n",
      "Epoch 21/50\n",
      "40/40 [==============================] - 0s 225us/step - loss: 0.6793 - accuracy: 0.9250 - val_loss: 0.6797 - val_accuracy: 1.0000\n",
      "Epoch 22/50\n",
      "40/40 [==============================] - 0s 225us/step - loss: 0.6787 - accuracy: 0.9250 - val_loss: 0.6791 - val_accuracy: 1.0000\n",
      "Epoch 23/50\n",
      "40/40 [==============================] - 0s 200us/step - loss: 0.6782 - accuracy: 0.9500 - val_loss: 0.6785 - val_accuracy: 1.0000\n",
      "Epoch 24/50\n",
      "40/40 [==============================] - 0s 275us/step - loss: 0.6776 - accuracy: 0.9500 - val_loss: 0.6779 - val_accuracy: 1.0000\n",
      "Epoch 25/50\n",
      "40/40 [==============================] - 0s 150us/step - loss: 0.6771 - accuracy: 0.9500 - val_loss: 0.6774 - val_accuracy: 1.0000\n",
      "Epoch 26/50\n",
      "40/40 [==============================] - 0s 200us/step - loss: 0.6765 - accuracy: 0.9750 - val_loss: 0.6768 - val_accuracy: 1.0000\n",
      "Epoch 27/50\n",
      "40/40 [==============================] - 0s 250us/step - loss: 0.6759 - accuracy: 0.9750 - val_loss: 0.6762 - val_accuracy: 1.0000\n",
      "Epoch 28/50\n",
      "40/40 [==============================] - 0s 250us/step - loss: 0.6754 - accuracy: 0.9750 - val_loss: 0.6757 - val_accuracy: 1.0000\n",
      "Epoch 29/50\n",
      "40/40 [==============================] - 0s 275us/step - loss: 0.6748 - accuracy: 0.9750 - val_loss: 0.6751 - val_accuracy: 1.0000\n",
      "Epoch 30/50\n",
      "40/40 [==============================] - 0s 175us/step - loss: 0.6743 - accuracy: 0.9750 - val_loss: 0.6746 - val_accuracy: 1.0000\n",
      "Epoch 31/50\n",
      "40/40 [==============================] - 0s 275us/step - loss: 0.6737 - accuracy: 0.9750 - val_loss: 0.6740 - val_accuracy: 1.0000\n",
      "Epoch 32/50\n",
      "40/40 [==============================] - 0s 250us/step - loss: 0.6732 - accuracy: 0.9750 - val_loss: 0.6735 - val_accuracy: 1.0000\n",
      "Epoch 33/50\n",
      "40/40 [==============================] - 0s 275us/step - loss: 0.6726 - accuracy: 0.9750 - val_loss: 0.6730 - val_accuracy: 1.0000\n",
      "Epoch 34/50\n",
      "40/40 [==============================] - 0s 200us/step - loss: 0.6721 - accuracy: 0.9750 - val_loss: 0.6725 - val_accuracy: 1.0000\n",
      "Epoch 35/50\n",
      "40/40 [==============================] - 0s 200us/step - loss: 0.6715 - accuracy: 0.9750 - val_loss: 0.6720 - val_accuracy: 1.0000\n",
      "Epoch 36/50\n",
      "40/40 [==============================] - 0s 250us/step - loss: 0.6709 - accuracy: 0.9750 - val_loss: 0.6715 - val_accuracy: 1.0000\n",
      "Epoch 37/50\n",
      "40/40 [==============================] - 0s 250us/step - loss: 0.6704 - accuracy: 0.9750 - val_loss: 0.6710 - val_accuracy: 1.0000\n",
      "Epoch 38/50\n",
      "40/40 [==============================] - 0s 250us/step - loss: 0.6699 - accuracy: 0.9750 - val_loss: 0.6705 - val_accuracy: 1.0000\n",
      "Epoch 39/50\n",
      "40/40 [==============================] - 0s 250us/step - loss: 0.6693 - accuracy: 0.9750 - val_loss: 0.6700 - val_accuracy: 1.0000\n",
      "Epoch 40/50\n",
      "40/40 [==============================] - 0s 225us/step - loss: 0.6688 - accuracy: 0.9750 - val_loss: 0.6694 - val_accuracy: 1.0000\n",
      "Epoch 41/50\n",
      "40/40 [==============================] - 0s 200us/step - loss: 0.6682 - accuracy: 0.9750 - val_loss: 0.6689 - val_accuracy: 1.0000\n",
      "Epoch 42/50\n",
      "40/40 [==============================] - 0s 200us/step - loss: 0.6676 - accuracy: 0.9750 - val_loss: 0.6684 - val_accuracy: 1.0000\n",
      "Epoch 43/50\n",
      "40/40 [==============================] - ETA: 0s - loss: 0.6679 - accuracy: 0.96 - 0s 226us/step - loss: 0.6671 - accuracy: 0.9750 - val_loss: 0.6679 - val_accuracy: 1.0000\n",
      "Epoch 44/50\n",
      "40/40 [==============================] - 0s 175us/step - loss: 0.6665 - accuracy: 0.9750 - val_loss: 0.6674 - val_accuracy: 1.0000\n",
      "Epoch 45/50\n",
      "40/40 [==============================] - 0s 250us/step - loss: 0.6660 - accuracy: 0.9750 - val_loss: 0.6669 - val_accuracy: 1.0000\n",
      "Epoch 46/50\n",
      "40/40 [==============================] - 0s 300us/step - loss: 0.6654 - accuracy: 0.9750 - val_loss: 0.6664 - val_accuracy: 1.0000\n",
      "Epoch 47/50\n",
      "40/40 [==============================] - 0s 225us/step - loss: 0.6649 - accuracy: 0.9750 - val_loss: 0.6659 - val_accuracy: 1.0000\n",
      "Epoch 48/50\n",
      "40/40 [==============================] - 0s 200us/step - loss: 0.6644 - accuracy: 0.9750 - val_loss: 0.6653 - val_accuracy: 1.0000\n",
      "Epoch 49/50\n",
      "40/40 [==============================] - 0s 200us/step - loss: 0.6638 - accuracy: 0.9750 - val_loss: 0.6648 - val_accuracy: 1.0000\n",
      "Epoch 50/50\n",
      "40/40 [==============================] - 0s 250us/step - loss: 0.6632 - accuracy: 0.9750 - val_loss: 0.6643 - val_accuracy: 1.0000\n"
     ]
    },
    {
     "data": {
      "text/plain": [
       "<keras.callbacks.callbacks.History at 0x17bbe1ea8d0>"
      ]
     },
     "execution_count": 28,
     "metadata": {},
     "output_type": "execute_result"
    }
   ],
   "source": [
    "feature_model.fit(X_train_features, Y_train, epochs=50, validation_data=(X_test_features, Y_test))"
   ]
  },
  {
   "cell_type": "code",
   "execution_count": null,
   "metadata": {},
   "outputs": [],
   "source": []
  }
 ],
 "metadata": {
  "kernelspec": {
   "display_name": "Python 3",
   "language": "python",
   "name": "python3"
  },
  "language_info": {
   "codemirror_mode": {
    "name": "ipython",
    "version": 3
   },
   "file_extension": ".py",
   "mimetype": "text/x-python",
   "name": "python",
   "nbconvert_exporter": "python",
   "pygments_lexer": "ipython3",
   "version": "3.7.3"
  }
 },
 "nbformat": 4,
 "nbformat_minor": 2
}
