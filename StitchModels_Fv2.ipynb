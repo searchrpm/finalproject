{
  "nbformat": 4,
  "nbformat_minor": 0,
  "metadata": {
    "accelerator": "GPU",
    "colab": {
      "name": "StitchModels_Fv2.ipynb",
      "provenance": [],
      "collapsed_sections": [],
      "include_colab_link": true
    },
    "kernelspec": {
      "display_name": "Python [conda env:ut_ml]",
      "language": "python",
      "name": "conda-env-ut_ml-py"
    },
    "language_info": {
      "codemirror_mode": {
        "name": "ipython",
        "version": 3
      },
      "file_extension": ".py",
      "mimetype": "text/x-python",
      "name": "python",
      "nbconvert_exporter": "python",
      "pygments_lexer": "ipython3",
      "version": "3.6.8"
    }
  },
  "cells": [
    {
      "cell_type": "markdown",
      "metadata": {
        "id": "view-in-github",
        "colab_type": "text"
      },
      "source": [
        "<a href=\"https://colab.research.google.com/github/searchrpm/finalproject/blob/master/StitchModels_Fv2.ipynb\" target=\"_parent\"><img src=\"https://colab.research.google.com/assets/colab-badge.svg\" alt=\"Open In Colab\"/></a>"
      ]
    },
    {
      "cell_type": "code",
      "metadata": {
        "id": "6Yo0TqG1fGaE",
        "colab_type": "code",
        "colab": {
          "base_uri": "https://localhost:8080/",
          "height": 1000
        },
        "outputId": "7df7fd02-2d54-4963-9ca9-c25e9e8e1409"
      },
      "source": [
        "!tar -zxvf tar-ml_data_test.tar.gz"
      ],
      "execution_count": 1,
      "outputs": [
        {
          "output_type": "stream",
          "text": [
            "./._ml_data_test\n",
            "ml_data_test/\n",
            "ml_data_test/._test\n",
            "ml_data_test/test/\n",
            "ml_data_test/._train\n",
            "ml_data_test/train/\n",
            "ml_data_test/train/._.DS_Store\n",
            "ml_data_test/train/.DS_Store\n",
            "ml_data_test/train/._angkor wat\n",
            "ml_data_test/train/angkor wat/\n",
            "ml_data_test/train/._chichen itza\n",
            "ml_data_test/train/chichen itza/\n",
            "ml_data_test/train/chichen itza/._11.chichen-itza-mexico-1-0b72f2dbbcb446c798d619760b4a02f9.jpg\n",
            "ml_data_test/train/chichen itza/11.chichen-itza-mexico-1-0b72f2dbbcb446c798d619760b4a02f9.jpg\n",
            "ml_data_test/train/chichen itza/._23.DSCF0531.jpg\n",
            "ml_data_test/train/chichen itza/23.DSCF0531.jpg\n",
            "ml_data_test/train/chichen itza/._28.IMG_1079-e1453808749988.jpg\n",
            "ml_data_test/train/chichen itza/28.IMG_1079-e1453808749988.jpg\n",
            "ml_data_test/train/chichen itza/._31.piramides-chichen-itza.jpg\n",
            "ml_data_test/train/chichen itza/31.piramides-chichen-itza.jpg\n",
            "ml_data_test/train/chichen itza/._14.Mayan-ruins-2.jpg\n",
            "ml_data_test/train/chichen itza/14.Mayan-ruins-2.jpg\n",
            "ml_data_test/train/chichen itza/._32.chichen%20itza.jpg\n",
            "ml_data_test/train/chichen itza/32.chichen%20itza.jpg\n",
            "ml_data_test/train/chichen itza/._41.Screen-Shot-2019-03-22-at-8.04.03-PM.png\n",
            "ml_data_test/train/chichen itza/41.Screen-Shot-2019-03-22-at-8.04.03-PM.png\n",
            "ml_data_test/train/chichen itza/._15.Overview-Chichen-Itza-Yucatan-Mexico.jpg\n",
            "ml_data_test/train/chichen itza/15.Overview-Chichen-Itza-Yucatan-Mexico.jpg\n",
            "ml_data_test/train/chichen itza/._47.82.jpg\n",
            "ml_data_test/train/chichen itza/47.82.jpg\n",
            "ml_data_test/train/chichen itza/._50.mx-1.jpg\n",
            "ml_data_test/train/chichen itza/50.mx-1.jpg\n",
            "ml_data_test/train/chichen itza/._36.chichen-itza.jpg\n",
            "ml_data_test/train/chichen itza/36.chichen-itza.jpg\n",
            "ml_data_test/train/chichen itza/._18.3048.jpg\n",
            "ml_data_test/train/chichen itza/18.3048.jpg\n",
            "ml_data_test/train/chichen itza/._40.10804e78e4a061eec9c1dc7b0968dfbd552b8e0b.jpg\n",
            "ml_data_test/train/chichen itza/40.10804e78e4a061eec9c1dc7b0968dfbd552b8e0b.jpg\n",
            "ml_data_test/train/chichen itza/._48.twisterchichenpyramid.jpg\n",
            "ml_data_test/train/chichen itza/48.twisterchichenpyramid.jpg\n",
            "ml_data_test/train/chichen itza/._38.large.jpg\n",
            "ml_data_test/train/chichen itza/38.large.jpg\n",
            "ml_data_test/train/chichen itza/._24.1551269577_DSC_2386.jpg\n",
            "ml_data_test/train/chichen itza/24.1551269577_DSC_2386.jpg\n",
            "ml_data_test/train/chichen itza/._34.ows_147882167849515.jpg\n",
            "ml_data_test/train/chichen itza/34.ows_147882167849515.jpg\n",
            "ml_data_test/train/chichen itza/._22.630x355.jpg\n",
            "ml_data_test/train/chichen itza/22.630x355.jpg\n",
            "ml_data_test/train/chichen itza/._43.useful-tips-for-your-trip-to-chichen-itza-1250x640.jpg\n",
            "ml_data_test/train/chichen itza/43.useful-tips-for-your-trip-to-chichen-itza-1250x640.jpg\n",
            "ml_data_test/train/chichen itza/._37.El-Caracol-observatory-Chichen-Itza-Mexico-Yucatan.jpg\n",
            "ml_data_test/train/chichen itza/37.El-Caracol-observatory-Chichen-Itza-Mexico-Yucatan.jpg\n",
            "ml_data_test/train/chichen itza/._35.Chichen-Itza-Mexico-Pyramid-Pyramid-In-Mexico-1024x576.jpg\n",
            "ml_data_test/train/chichen itza/35.Chichen-Itza-Mexico-Pyramid-Pyramid-In-Mexico-1024x576.jpg\n",
            "ml_data_test/train/chichen itza/._29.Mexico-Chichen-Itza-1024x683.jpg\n",
            "ml_data_test/train/chichen itza/29.Mexico-Chichen-Itza-1024x683.jpg\n",
            "ml_data_test/train/chichen itza/._49.Tulum-Vs-Chichen-Itza-1024x768.jpg\n",
            "ml_data_test/train/chichen itza/49.Tulum-Vs-Chichen-Itza-1024x768.jpg\n",
            "ml_data_test/train/chichen itza/._30.article-detail-cover_1.jpg\n",
            "ml_data_test/train/chichen itza/30.article-detail-cover_1.jpg\n",
            "ml_data_test/train/chichen itza/._33.Chichen-Itza-Sonnenaufgang.jpg\n",
            "ml_data_test/train/chichen itza/33.Chichen-Itza-Sonnenaufgang.jpg\n",
            "ml_data_test/train/chichen itza/._44.8755714216_546e3ee0f4_b.jpg\n",
            "ml_data_test/train/chichen itza/44.8755714216_546e3ee0f4_b.jpg\n",
            "ml_data_test/train/chichen itza/._26.mayan-ruins-of-chichen-itza-built-by-may.jpg\n",
            "ml_data_test/train/chichen itza/26.mayan-ruins-of-chichen-itza-built-by-may.jpg\n",
            "ml_data_test/train/chichen itza/._39.lqhae4oucwtjdu80pqyfloutezpyhgix2ysz3czeyjocfwxbptxq19ojhpgjitle-.jpg\n",
            "ml_data_test/train/chichen itza/39.lqhae4oucwtjdu80pqyfloutezpyhgix2ysz3czeyjocfwxbptxq19ojhpgjitle-.jpg\n",
            "ml_data_test/train/chichen itza/._13.tour_img-2417395-146.jpg\n",
            "ml_data_test/train/chichen itza/13.tour_img-2417395-146.jpg\n",
            "ml_data_test/train/chichen itza/._21.01_ChichenItza101__Introduction_1.-526127a693923.jpeg\n",
            "ml_data_test/train/chichen itza/21.01_ChichenItza101__Introduction_1.-526127a693923.jpeg\n",
            "ml_data_test/train/chichen itza/._20.Chichen-Itza-At-Your-Own-Pace-1.jpg\n",
            "ml_data_test/train/chichen itza/20.Chichen-Itza-At-Your-Own-Pace-1.jpg\n",
            "ml_data_test/train/chichen itza/._12.chichen-itza-masters-6.jpg\n",
            "ml_data_test/train/chichen itza/12.chichen-itza-masters-6.jpg\n",
            "ml_data_test/train/chichen itza/._25.Mexico-Chichen-Itza-group.jpg\n",
            "ml_data_test/train/chichen itza/25.Mexico-Chichen-Itza-group.jpg\n",
            "ml_data_test/train/chichen itza/._42.chichen-itza-guide.jpg\n",
            "ml_data_test/train/chichen itza/42.chichen-itza-guide.jpg\n",
            "ml_data_test/train/chichen itza/._16.Chichen-Itza-Private-Tours.jpeg\n",
            "ml_data_test/train/chichen itza/16.Chichen-Itza-Private-Tours.jpeg\n",
            "ml_data_test/train/chichen itza/._46.5-archaeologis.jpg\n",
            "ml_data_test/train/chichen itza/46.5-archaeologis.jpg\n",
            "ml_data_test/train/chichen itza/._45.cozumel-chichen-itza-tour-03.jpg\n",
            "ml_data_test/train/chichen itza/45.cozumel-chichen-itza-tour-03.jpg\n",
            "ml_data_test/train/chichen itza/._27.36422264_303.jpg\n",
            "ml_data_test/train/chichen itza/27.36422264_303.jpg\n",
            "ml_data_test/train/chichen itza/._17.28011.ngsversion.1473816683911.adapt.1900.1.jpg\n",
            "ml_data_test/train/chichen itza/17.28011.ngsversion.1473816683911.adapt.1900.1.jpg\n",
            "ml_data_test/train/chichen itza/._19.26.jpg\n",
            "ml_data_test/train/chichen itza/19.26.jpg\n",
            "ml_data_test/train/angkor wat/._14.5148522141_61fc7803d4_o.jpg\n",
            "ml_data_test/train/angkor wat/14.5148522141_61fc7803d4_o.jpg\n",
            "ml_data_test/train/angkor wat/._43.46a81c950b37ef095eb554b998b7f7cb.jpg\n",
            "ml_data_test/train/angkor wat/43.46a81c950b37ef095eb554b998b7f7cb.jpg\n",
            "ml_data_test/train/angkor wat/._18.Angkor_Wat-980x666.jpg\n",
            "ml_data_test/train/angkor wat/18.Angkor_Wat-980x666.jpg\n",
            "ml_data_test/train/angkor wat/._39.ankgorwat.jpg\n",
            "ml_data_test/train/angkor wat/39.ankgorwat.jpg\n",
            "ml_data_test/train/angkor wat/._50.iStock-1032930350-1000x600.jpg\n",
            "ml_data_test/train/angkor wat/50.iStock-1032930350-1000x600.jpg\n",
            "ml_data_test/train/angkor wat/._24.angkor-wat-in-cambodia-5a3abd59aad52b003646e1fc.jpg\n",
            "ml_data_test/train/angkor wat/24.angkor-wat-in-cambodia-5a3abd59aad52b003646e1fc.jpg\n",
            "ml_data_test/train/angkor wat/._44.angkorwatarc.jpg\n",
            "ml_data_test/train/angkor wat/44.angkorwatarc.jpg\n",
            "ml_data_test/train/angkor wat/._33.DSC05150_2048x2048.JPG\n",
            "ml_data_test/train/angkor wat/33.DSC05150_2048x2048.JPG\n",
            "ml_data_test/train/angkor wat/._29.shutterstock-423566122.jpg\n",
            "ml_data_test/train/angkor wat/29.shutterstock-423566122.jpg\n",
            "ml_data_test/train/angkor wat/._48.maxresdefault.jpg\n",
            "ml_data_test/train/angkor wat/48.maxresdefault.jpg\n",
            "ml_data_test/train/angkor wat/._26.angkor-wat-dawn-cr-getty.jpg\n",
            "ml_data_test/train/angkor wat/26.angkor-wat-dawn-cr-getty.jpg\n",
            "ml_data_test/train/angkor wat/._17.Angkor-Wat-Day-Tours-and-Excursions--Cambodia--On-The-Go-Tours-555611520332455_crop_800_600.jpg\n",
            "ml_data_test/train/angkor wat/17.Angkor-Wat-Day-Tours-and-Excursions--Cambodia--On-The-Go-Tours-555611520332455_crop_800_600.jpg\n",
            "ml_data_test/train/angkor wat/._16.206e01cfbc1b9605649856c2d44cb9a507842daf.jpg\n",
            "ml_data_test/train/angkor wat/16.206e01cfbc1b9605649856c2d44cb9a507842daf.jpg\n",
            "ml_data_test/train/angkor wat/._11.Angkor-Wat_0.jpg\n",
            "ml_data_test/train/angkor wat/11.Angkor-Wat_0.jpg\n",
            "ml_data_test/train/angkor wat/._38.68E585C2-3665-4605-A017-759E1BAF0F07.jpg\n",
            "ml_data_test/train/angkor wat/38.68E585C2-3665-4605-A017-759E1BAF0F07.jpg\n",
            "ml_data_test/train/angkor wat/._37.angkorwat20-af54d65797dd45429aaeae8396f93c1c.jpg\n",
            "ml_data_test/train/angkor wat/37.angkorwat20-af54d65797dd45429aaeae8396f93c1c.jpg\n",
            "ml_data_test/train/angkor wat/._34.6217987610_a07a93c160_b.jpg\n",
            "ml_data_test/train/angkor wat/34.6217987610_a07a93c160_b.jpg\n",
            "ml_data_test/train/angkor wat/._15.IMG_0063-23.jpg\n",
            "ml_data_test/train/angkor wat/15.IMG_0063-23.jpg\n",
            "ml_data_test/train/angkor wat/._32.Angkor-Wat-19.jpg\n",
            "ml_data_test/train/angkor wat/32.Angkor-Wat-19.jpg\n",
            "ml_data_test/train/angkor wat/._49.Angkor-Wat-temple-complex-Camb.jpg\n",
            "ml_data_test/train/angkor wat/49.Angkor-Wat-temple-complex-Camb.jpg\n",
            "ml_data_test/train/angkor wat/._47.istock_000048281186_ta_prohm_cambodia.jpg\n",
            "ml_data_test/train/angkor wat/47.istock_000048281186_ta_prohm_cambodia.jpg\n",
            "ml_data_test/train/angkor wat/._30.image.jpg\n",
            "ml_data_test/train/angkor wat/30.image.jpg\n",
            "ml_data_test/train/angkor wat/._12.1*kWDAD3LaNIheSpc7FMWlgQ.jpeg\n",
            "ml_data_test/train/angkor wat/12.1*kWDAD3LaNIheSpc7FMWlgQ.jpeg\n",
            "ml_data_test/train/angkor wat/._46.1551259465-4760-c2_crop_flip_800_450_f2f2f2_center-center.jpg\n",
            "ml_data_test/train/angkor wat/46.1551259465-4760-c2_crop_flip_800_450_f2f2f2_center-center.jpg\n",
            "ml_data_test/train/angkor wat/._42.asia-tailor-made-cambodia-angkor-wat-mh.jpg\n",
            "ml_data_test/train/angkor wat/42.asia-tailor-made-cambodia-angkor-wat-mh.jpg\n",
            "ml_data_test/train/angkor wat/._21.Angkor%20Wat-Boy_Anupong.jpg\n",
            "ml_data_test/train/angkor wat/21.Angkor%20Wat-Boy_Anupong.jpg\n",
            "ml_data_test/train/angkor wat/._22.P2125266-1000x0-c-default.jpg\n",
            "ml_data_test/train/angkor wat/22.P2125266-1000x0-c-default.jpg\n",
            "ml_data_test/train/angkor wat/._45.ows_151571081672442.jpg\n",
            "ml_data_test/train/angkor wat/45.ows_151571081672442.jpg\n",
            "ml_data_test/train/angkor wat/._23.87.jpg\n",
            "ml_data_test/train/angkor wat/23.87.jpg\n",
            "ml_data_test/train/angkor wat/._40.062817-Vespa-Adventures-Angkor-Wat-4-2.jpg\n",
            "ml_data_test/train/angkor wat/40.062817-Vespa-Adventures-Angkor-Wat-4-2.jpg\n",
            "ml_data_test/train/angkor wat/._36.angkor_wat_ruins_with_roots_istock_600.jpg\n",
            "ml_data_test/train/angkor wat/36.angkor_wat_ruins_with_roots_istock_600.jpg\n",
            "ml_data_test/train/angkor wat/._35.anghor-wat-cambodia-temple-coplex-.jpg\n",
            "ml_data_test/train/angkor wat/35.anghor-wat-cambodia-temple-coplex-.jpg\n",
            "ml_data_test/train/angkor wat/._19.sunset-at-angkor-wat--siem-reap--cambodia-640432454-5c327edf46e0fb00016ccb6c.jpg\n",
            "ml_data_test/train/angkor wat/19.sunset-at-angkor-wat--siem-reap--cambodia-640432454-5c327edf46e0fb00016ccb6c.jpg\n",
            "ml_data_test/train/angkor wat/._28.The%2BCommon%2BWanderer%2BAngkor%2BWat%2BTemples.jpg\n",
            "ml_data_test/train/angkor wat/28.The%2BCommon%2BWanderer%2BAngkor%2BWat%2BTemples.jpg\n",
            "ml_data_test/train/angkor wat/._20.6e.jpg\n",
            "ml_data_test/train/angkor wat/20.6e.jpg\n",
            "ml_data_test/train/angkor wat/._25.52727192.jpg\n",
            "ml_data_test/train/angkor wat/25.52727192.jpg\n",
            "ml_data_test/train/angkor wat/._27.DSC05177_2048x2048.JPG\n",
            "ml_data_test/train/angkor wat/27.DSC05177_2048x2048.JPG\n",
            "ml_data_test/train/angkor wat/._41.bangkok-to-angkor-wat.jpg\n",
            "ml_data_test/train/angkor wat/41.bangkok-to-angkor-wat.jpg\n",
            "ml_data_test/train/angkor wat/._13.veQKQrhqeLXwXHw4Q6qM3N-320-80.jpg\n",
            "ml_data_test/train/angkor wat/13.veQKQrhqeLXwXHw4Q6qM3N-320-80.jpg\n",
            "ml_data_test/train/angkor wat/._31.img022.jpeg\n",
            "ml_data_test/train/angkor wat/31.img022.jpeg\n",
            "ml_data_test/test/._.DS_Store\n",
            "ml_data_test/test/.DS_Store\n",
            "ml_data_test/test/._angkor wat\n",
            "ml_data_test/test/angkor wat/\n",
            "ml_data_test/test/._chichen itza\n",
            "ml_data_test/test/chichen itza/\n",
            "ml_data_test/test/chichen itza/._6.chichenitza-cenotemaya.jpg\n",
            "ml_data_test/test/chichen itza/6.chichenitza-cenotemaya.jpg\n",
            "ml_data_test/test/chichen itza/._9.chichen-itza-ruins-blog-1.jpg\n",
            "ml_data_test/test/chichen itza/9.chichen-itza-ruins-blog-1.jpg\n",
            "ml_data_test/test/chichen itza/._2.Chichen_Itza_3.jpg\n",
            "ml_data_test/test/chichen itza/2.Chichen_Itza_3.jpg\n",
            "ml_data_test/test/chichen itza/._1.El-Castillo-pyramid-plaza-Toltec-state-Yucatan.jpg\n",
            "ml_data_test/test/chichen itza/1.El-Castillo-pyramid-plaza-Toltec-state-Yucatan.jpg\n",
            "ml_data_test/test/chichen itza/._10.76.jpg\n",
            "ml_data_test/test/chichen itza/10.76.jpg\n",
            "ml_data_test/test/chichen itza/._8.el-castillo--148592462-59a70345685fbe001067598e.jpg\n",
            "ml_data_test/test/chichen itza/8.el-castillo--148592462-59a70345685fbe001067598e.jpg\n",
            "ml_data_test/test/chichen itza/._5.1260_yucatan_cultura_zonas_arqueologucas_chichen_itza_2.jpg\n",
            "ml_data_test/test/chichen itza/5.1260_yucatan_cultura_zonas_arqueologucas_chichen_itza_2.jpg\n",
            "ml_data_test/test/chichen itza/._3.6c.jpg\n",
            "ml_data_test/test/chichen itza/3.6c.jpg\n",
            "ml_data_test/test/chichen itza/._7.with-its-lush-carvings-of-gods-and-beasts-its-all-maya-at-mexicos-chichen-itza.jpg\n",
            "ml_data_test/test/chichen itza/7.with-its-lush-carvings-of-gods-and-beasts-its-all-maya-at-mexicos-chichen-itza.jpg\n",
            "ml_data_test/test/chichen itza/._4.El-Castillo-Chichen-Itza-Yucatan-Mexico.jpg\n",
            "ml_data_test/test/chichen itza/4.El-Castillo-Chichen-Itza-Yucatan-Mexico.jpg\n",
            "ml_data_test/test/angkor wat/._3.5104226627001_5434711148001_5413965430001-vs.jpg\n",
            "ml_data_test/test/angkor wat/3.5104226627001_5434711148001_5413965430001-vs.jpg\n",
            "ml_data_test/test/angkor wat/._1.Cambodia_2638B_-_Angkor_Wat.jpg\n",
            "ml_data_test/test/angkor wat/1.Cambodia_2638B_-_Angkor_Wat.jpg\n",
            "ml_data_test/test/angkor wat/._7.wat.jpg\n",
            "ml_data_test/test/angkor wat/7.wat.jpg\n",
            "ml_data_test/test/angkor wat/._6.Screenshot-2019-11-08-at-15.55.41.png\n",
            "ml_data_test/test/angkor wat/6.Screenshot-2019-11-08-at-15.55.41.png\n",
            "ml_data_test/test/angkor wat/._2.angkor-wat-lakeview.jpg\n",
            "ml_data_test/test/angkor wat/2.angkor-wat-lakeview.jpg\n",
            "ml_data_test/test/angkor wat/._9.angkor-wat-towers.jpg\n",
            "ml_data_test/test/angkor wat/9.angkor-wat-towers.jpg\n",
            "ml_data_test/test/angkor wat/._5.the-ultimate-guide-for-visiting-Angkor-Wat-1280x640.jpg\n",
            "ml_data_test/test/angkor wat/5.the-ultimate-guide-for-visiting-Angkor-Wat-1280x640.jpg\n",
            "ml_data_test/test/angkor wat/._4.an-aerial-view-of-the-angkor-wat-temple-2.jpg\n",
            "ml_data_test/test/angkor wat/4.an-aerial-view-of-the-angkor-wat-temple-2.jpg\n",
            "ml_data_test/test/angkor wat/._10.25988-2.jpg\n",
            "ml_data_test/test/angkor wat/10.25988-2.jpg\n",
            "ml_data_test/test/angkor wat/._8.overview-complex-Angkor-Wat-Cambodia.jpg\n",
            "ml_data_test/test/angkor wat/8.overview-complex-Angkor-Wat-Cambodia.jpg\n"
          ],
          "name": "stdout"
        }
      ]
    },
    {
      "cell_type": "code",
      "metadata": {
        "colab_type": "code",
        "id": "MqBFGhIC_A4Q",
        "colab": {}
      },
      "source": [
        "%matplotlib inline\n",
        "import matplotlib.pyplot as plt\n",
        "import numpy as np\n",
        "import os"
      ],
      "execution_count": 0,
      "outputs": []
    },
    {
      "cell_type": "code",
      "metadata": {
        "colab_type": "code",
        "id": "i1yDbUbg_PiQ",
        "outputId": "870e6b25-1881-4808-cd0b-9fb500dd52f2",
        "colab": {
          "base_uri": "https://localhost:8080/",
          "height": 98
        }
      },
      "source": [
        "from keras.applications.vgg19 import (\n",
        "    VGG19, preprocess_input, decode_predictions)\n",
        "\n",
        "from keras.models import Sequential\n",
        "from keras.layers import Dense, Activation, Flatten\n",
        "from keras.layers import merge, Input\n",
        "from keras.models import Model\n",
        "from keras.utils import to_categorical, np_utils\n",
        "from sklearn.utils import shuffle\n",
        "from sklearn.model_selection import train_test_split"
      ],
      "execution_count": 3,
      "outputs": [
        {
          "output_type": "stream",
          "text": [
            "Using TensorFlow backend.\n"
          ],
          "name": "stderr"
        },
        {
          "output_type": "display_data",
          "data": {
            "text/html": [
              "<p style=\"color: red;\">\n",
              "The default version of TensorFlow in Colab will soon switch to TensorFlow 2.x.<br>\n",
              "We recommend you <a href=\"https://www.tensorflow.org/guide/migrate\" target=\"_blank\">upgrade</a> now \n",
              "or ensure your notebook will continue to use TensorFlow 1.x via the <code>%tensorflow_version 1.x</code> magic:\n",
              "<a href=\"https://colab.research.google.com/notebooks/tensorflow_version.ipynb\" target=\"_blank\">more info</a>.</p>\n"
            ],
            "text/plain": [
              "<IPython.core.display.HTML object>"
            ]
          },
          "metadata": {
            "tags": []
          }
        }
      ]
    },
    {
      "cell_type": "code",
      "metadata": {
        "colab_type": "code",
        "id": "r--g8C_8_RVR",
        "colab": {}
      },
      "source": [
        "import data"
      ],
      "execution_count": 0,
      "outputs": []
    },
    {
      "cell_type": "code",
      "metadata": {
        "colab_type": "code",
        "id": "Dhl_CRkq_S1B",
        "colab": {}
      },
      "source": [
        "data.train_path = \"ml_data_test/train\"\n",
        "data.test_path = \"ml_data_test/test\"\n",
        "folder_names = [\"chichen itza\", \"angkor wat\"]"
      ],
      "execution_count": 0,
      "outputs": []
    },
    {
      "cell_type": "code",
      "metadata": {
        "colab_type": "code",
        "id": "cj_5XFSh_YWK",
        "outputId": "8df78c6f-fdbe-487a-93e5-bd0801fed0c5",
        "colab": {
          "base_uri": "https://localhost:8080/",
          "height": 121
        }
      },
      "source": [
        "X_train, Y_train = data.get_images(data.train_path, folder_names)"
      ],
      "execution_count": 6,
      "outputs": [
        {
          "output_type": "stream",
          "text": [
            "ml_data_test/train/angkor wat/*\n",
            "Loaded the images of dataset-angkor wat\n",
            "\n",
            "ml_data_test/train/chichen itza/*\n",
            "Loaded the images of dataset-chichen itza\n",
            "\n"
          ],
          "name": "stdout"
        }
      ]
    },
    {
      "cell_type": "code",
      "metadata": {
        "colab_type": "code",
        "id": "TgSaPLgj_aqw",
        "outputId": "a76cc028-e596-4260-a99a-756279fbb275",
        "colab": {
          "base_uri": "https://localhost:8080/",
          "height": 121
        }
      },
      "source": [
        "X_test, Y_test = data.get_images(data.test_path, folder_names)"
      ],
      "execution_count": 7,
      "outputs": [
        {
          "output_type": "stream",
          "text": [
            "ml_data_test/test/angkor wat/*\n",
            "Loaded the images of dataset-angkor wat\n",
            "\n",
            "ml_data_test/test/chichen itza/*\n",
            "Loaded the images of dataset-chichen itza\n",
            "\n"
          ],
          "name": "stdout"
        }
      ]
    },
    {
      "cell_type": "code",
      "metadata": {
        "colab_type": "code",
        "id": "pYUmwKxx_cRi",
        "outputId": "38ff3c1c-6b0b-4e08-f471-757a63727c06",
        "scrolled": true,
        "colab": {
          "base_uri": "https://localhost:8080/",
          "height": 1000
        }
      },
      "source": [
        "image_input = Input(shape=(224, 224, 3))\n",
        "\n",
        "vgg_model = VGG19(input_tensor=image_input, include_top=False, weights='imagenet')\n",
        "vgg_model.summary()"
      ],
      "execution_count": 8,
      "outputs": [
        {
          "output_type": "stream",
          "text": [
            "WARNING:tensorflow:From /usr/local/lib/python3.6/dist-packages/keras/backend/tensorflow_backend.py:66: The name tf.get_default_graph is deprecated. Please use tf.compat.v1.get_default_graph instead.\n",
            "\n",
            "WARNING:tensorflow:From /usr/local/lib/python3.6/dist-packages/keras/backend/tensorflow_backend.py:541: The name tf.placeholder is deprecated. Please use tf.compat.v1.placeholder instead.\n",
            "\n",
            "WARNING:tensorflow:From /usr/local/lib/python3.6/dist-packages/keras/backend/tensorflow_backend.py:4432: The name tf.random_uniform is deprecated. Please use tf.random.uniform instead.\n",
            "\n",
            "WARNING:tensorflow:From /usr/local/lib/python3.6/dist-packages/keras/backend/tensorflow_backend.py:4267: The name tf.nn.max_pool is deprecated. Please use tf.nn.max_pool2d instead.\n",
            "\n",
            "Downloading data from https://github.com/fchollet/deep-learning-models/releases/download/v0.1/vgg19_weights_tf_dim_ordering_tf_kernels_notop.h5\n",
            "80142336/80134624 [==============================] - 6s 0us/step\n",
            "WARNING:tensorflow:From /usr/local/lib/python3.6/dist-packages/keras/backend/tensorflow_backend.py:190: The name tf.get_default_session is deprecated. Please use tf.compat.v1.get_default_session instead.\n",
            "\n",
            "WARNING:tensorflow:From /usr/local/lib/python3.6/dist-packages/keras/backend/tensorflow_backend.py:197: The name tf.ConfigProto is deprecated. Please use tf.compat.v1.ConfigProto instead.\n",
            "\n",
            "WARNING:tensorflow:From /usr/local/lib/python3.6/dist-packages/keras/backend/tensorflow_backend.py:203: The name tf.Session is deprecated. Please use tf.compat.v1.Session instead.\n",
            "\n",
            "WARNING:tensorflow:From /usr/local/lib/python3.6/dist-packages/keras/backend/tensorflow_backend.py:207: The name tf.global_variables is deprecated. Please use tf.compat.v1.global_variables instead.\n",
            "\n",
            "WARNING:tensorflow:From /usr/local/lib/python3.6/dist-packages/keras/backend/tensorflow_backend.py:216: The name tf.is_variable_initialized is deprecated. Please use tf.compat.v1.is_variable_initialized instead.\n",
            "\n",
            "WARNING:tensorflow:From /usr/local/lib/python3.6/dist-packages/keras/backend/tensorflow_backend.py:223: The name tf.variables_initializer is deprecated. Please use tf.compat.v1.variables_initializer instead.\n",
            "\n",
            "Model: \"vgg19\"\n",
            "_________________________________________________________________\n",
            "Layer (type)                 Output Shape              Param #   \n",
            "=================================================================\n",
            "input_1 (InputLayer)         (None, 224, 224, 3)       0         \n",
            "_________________________________________________________________\n",
            "block1_conv1 (Conv2D)        (None, 224, 224, 64)      1792      \n",
            "_________________________________________________________________\n",
            "block1_conv2 (Conv2D)        (None, 224, 224, 64)      36928     \n",
            "_________________________________________________________________\n",
            "block1_pool (MaxPooling2D)   (None, 112, 112, 64)      0         \n",
            "_________________________________________________________________\n",
            "block2_conv1 (Conv2D)        (None, 112, 112, 128)     73856     \n",
            "_________________________________________________________________\n",
            "block2_conv2 (Conv2D)        (None, 112, 112, 128)     147584    \n",
            "_________________________________________________________________\n",
            "block2_pool (MaxPooling2D)   (None, 56, 56, 128)       0         \n",
            "_________________________________________________________________\n",
            "block3_conv1 (Conv2D)        (None, 56, 56, 256)       295168    \n",
            "_________________________________________________________________\n",
            "block3_conv2 (Conv2D)        (None, 56, 56, 256)       590080    \n",
            "_________________________________________________________________\n",
            "block3_conv3 (Conv2D)        (None, 56, 56, 256)       590080    \n",
            "_________________________________________________________________\n",
            "block3_conv4 (Conv2D)        (None, 56, 56, 256)       590080    \n",
            "_________________________________________________________________\n",
            "block3_pool (MaxPooling2D)   (None, 28, 28, 256)       0         \n",
            "_________________________________________________________________\n",
            "block4_conv1 (Conv2D)        (None, 28, 28, 512)       1180160   \n",
            "_________________________________________________________________\n",
            "block4_conv2 (Conv2D)        (None, 28, 28, 512)       2359808   \n",
            "_________________________________________________________________\n",
            "block4_conv3 (Conv2D)        (None, 28, 28, 512)       2359808   \n",
            "_________________________________________________________________\n",
            "block4_conv4 (Conv2D)        (None, 28, 28, 512)       2359808   \n",
            "_________________________________________________________________\n",
            "block4_pool (MaxPooling2D)   (None, 14, 14, 512)       0         \n",
            "_________________________________________________________________\n",
            "block5_conv1 (Conv2D)        (None, 14, 14, 512)       2359808   \n",
            "_________________________________________________________________\n",
            "block5_conv2 (Conv2D)        (None, 14, 14, 512)       2359808   \n",
            "_________________________________________________________________\n",
            "block5_conv3 (Conv2D)        (None, 14, 14, 512)       2359808   \n",
            "_________________________________________________________________\n",
            "block5_conv4 (Conv2D)        (None, 14, 14, 512)       2359808   \n",
            "_________________________________________________________________\n",
            "block5_pool (MaxPooling2D)   (None, 7, 7, 512)         0         \n",
            "=================================================================\n",
            "Total params: 20,024,384\n",
            "Trainable params: 20,024,384\n",
            "Non-trainable params: 0\n",
            "_________________________________________________________________\n"
          ],
          "name": "stdout"
        }
      ]
    },
    {
      "cell_type": "code",
      "metadata": {
        "colab_type": "code",
        "id": "fWZadJzK_era",
        "outputId": "f98879ef-a256-4484-e8b6-31dfbd124b20",
        "colab": {
          "base_uri": "https://localhost:8080/",
          "height": 106
        }
      },
      "source": [
        "# use the 1000 category output like a set of features into a new model\n",
        "\n",
        "model = Sequential()\n",
        "model.add(vgg_model)\n",
        "model.add(Flatten())\n",
        "model.add(Dense(data.num_classes, activation=\"sigmoid\"))\n",
        "model.layers[0].trainable=False\n",
        "model.compile(loss=\"categorical_crossentropy\", optimizer=\"adam\", metrics=[\"accuracy\"])"
      ],
      "execution_count": 9,
      "outputs": [
        {
          "output_type": "stream",
          "text": [
            "WARNING:tensorflow:From /usr/local/lib/python3.6/dist-packages/keras/optimizers.py:793: The name tf.train.Optimizer is deprecated. Please use tf.compat.v1.train.Optimizer instead.\n",
            "\n",
            "WARNING:tensorflow:From /usr/local/lib/python3.6/dist-packages/keras/backend/tensorflow_backend.py:3576: The name tf.log is deprecated. Please use tf.math.log instead.\n",
            "\n"
          ],
          "name": "stdout"
        }
      ]
    },
    {
      "cell_type": "code",
      "metadata": {
        "colab_type": "code",
        "id": "rBJmuXNb_kb4",
        "colab": {}
      },
      "source": [
        ""
      ],
      "execution_count": 0,
      "outputs": []
    },
    {
      "cell_type": "code",
      "metadata": {
        "colab_type": "code",
        "id": "bAk21SRm_44e",
        "outputId": "975aed69-0e17-4f7f-9d68-4796423bd87f",
        "colab": {
          "base_uri": "https://localhost:8080/",
          "height": 260
        }
      },
      "source": [
        "model.summary()"
      ],
      "execution_count": 10,
      "outputs": [
        {
          "output_type": "stream",
          "text": [
            "Model: \"sequential_1\"\n",
            "_________________________________________________________________\n",
            "Layer (type)                 Output Shape              Param #   \n",
            "=================================================================\n",
            "vgg19 (Model)                (None, 7, 7, 512)         20024384  \n",
            "_________________________________________________________________\n",
            "flatten_1 (Flatten)          (None, 25088)             0         \n",
            "_________________________________________________________________\n",
            "dense_1 (Dense)              (None, 2)                 50178     \n",
            "=================================================================\n",
            "Total params: 20,074,562\n",
            "Trainable params: 50,178\n",
            "Non-trainable params: 20,024,384\n",
            "_________________________________________________________________\n"
          ],
          "name": "stdout"
        }
      ]
    },
    {
      "cell_type": "code",
      "metadata": {
        "colab_type": "code",
        "id": "RRtjpBWT_nn7",
        "outputId": "0bbee8ea-261c-42f0-bfd8-7bff618ced8d",
        "colab": {
          "base_uri": "https://localhost:8080/",
          "height": 541
        }
      },
      "source": [
        "model.fit(X_train, Y_train, batch_size=32, epochs=10, validation_data=(X_test, Y_test))"
      ],
      "execution_count": 11,
      "outputs": [
        {
          "output_type": "stream",
          "text": [
            "WARNING:tensorflow:From /usr/local/lib/python3.6/dist-packages/tensorflow_core/python/ops/math_grad.py:1424: where (from tensorflow.python.ops.array_ops) is deprecated and will be removed in a future version.\n",
            "Instructions for updating:\n",
            "Use tf.where in 2.0, which has the same broadcast rule as np.where\n",
            "WARNING:tensorflow:From /usr/local/lib/python3.6/dist-packages/keras/backend/tensorflow_backend.py:1033: The name tf.assign_add is deprecated. Please use tf.compat.v1.assign_add instead.\n",
            "\n",
            "WARNING:tensorflow:From /usr/local/lib/python3.6/dist-packages/keras/backend/tensorflow_backend.py:1020: The name tf.assign is deprecated. Please use tf.compat.v1.assign instead.\n",
            "\n",
            "Train on 80 samples, validate on 20 samples\n",
            "Epoch 1/10\n",
            "80/80 [==============================] - 8s 101ms/step - loss: 0.8915 - acc: 0.7250 - val_loss: 0.2584 - val_acc: 0.8500\n",
            "Epoch 2/10\n",
            "80/80 [==============================] - 0s 4ms/step - loss: 0.2850 - acc: 0.8750 - val_loss: 0.2198 - val_acc: 0.9500\n",
            "Epoch 3/10\n",
            "80/80 [==============================] - 0s 4ms/step - loss: 0.1818 - acc: 0.9250 - val_loss: 0.1197 - val_acc: 0.9500\n",
            "Epoch 4/10\n",
            "80/80 [==============================] - 0s 4ms/step - loss: 0.1332 - acc: 0.9375 - val_loss: 0.0549 - val_acc: 0.9500\n",
            "Epoch 5/10\n",
            "80/80 [==============================] - 0s 4ms/step - loss: 0.0963 - acc: 0.9750 - val_loss: 0.0347 - val_acc: 0.9500\n",
            "Epoch 6/10\n",
            "80/80 [==============================] - 0s 4ms/step - loss: 0.0646 - acc: 0.9750 - val_loss: 0.0347 - val_acc: 1.0000\n",
            "Epoch 7/10\n",
            "80/80 [==============================] - 0s 4ms/step - loss: 0.0476 - acc: 0.9750 - val_loss: 0.0347 - val_acc: 1.0000\n",
            "Epoch 8/10\n",
            "80/80 [==============================] - 0s 4ms/step - loss: 0.0369 - acc: 0.9750 - val_loss: 0.0249 - val_acc: 1.0000\n",
            "Epoch 9/10\n",
            "80/80 [==============================] - 0s 4ms/step - loss: 0.0271 - acc: 0.9875 - val_loss: 7.9540e-05 - val_acc: 1.0000\n",
            "Epoch 10/10\n",
            "80/80 [==============================] - 0s 4ms/step - loss: 0.0259 - acc: 0.9875 - val_loss: 5.0068e-07 - val_acc: 1.0000\n"
          ],
          "name": "stdout"
        },
        {
          "output_type": "execute_result",
          "data": {
            "text/plain": [
              "<keras.callbacks.History at 0x7fca6efee710>"
            ]
          },
          "metadata": {
            "tags": []
          },
          "execution_count": 11
        }
      ]
    },
    {
      "cell_type": "code",
      "metadata": {
        "colab_type": "code",
        "id": "4cDtlPmL_soz",
        "colab": {}
      },
      "source": [
        ""
      ],
      "execution_count": 0,
      "outputs": []
    }
  ]
}