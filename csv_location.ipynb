{
 "cells": [
  {
   "cell_type": "code",
   "execution_count": 2,
   "metadata": {},
   "outputs": [],
   "source": [
    "import pandas as pd"
   ]
  },
  {
   "cell_type": "code",
   "execution_count": 3,
   "metadata": {},
   "outputs": [],
   "source": [
    "name_mon=[\"Temple Mount\",\"Pyramids of Giza\",\"Chichen Itza\",\"Moai Statues\",\"The Colosseum\",\"The Great Wall of China\",\"Angkor Wat\",\"Petra\",\"Taj Mahal\",\"Machu Picchu\"]\n",
    "location_mon=[\"31.7781° N, 35.2360° E\",\"29.9773° N, 31.1325° E\",\"20.6843° N, 88.5678° W\",\"-27.104671, -109.360481\",\"41.8902° N, 12.4922° E\",\"40.4319° N, 116.5704° E\",\"13.4125° N, 103.8670° E\",\"30.3285° N, 35.4444° E\",\"27.1751° N, 78.0421° E\",\"13.1631° S, 72.5450° W\"]\n",
    "monuments=pd.DataFrame({\n",
    "    \"Monuments\":name_mon,\n",
    "    \"Location\":location_mon\n",
    "})"
   ]
  },
  {
   "cell_type": "code",
   "execution_count": 4,
   "metadata": {},
   "outputs": [
    {
     "data": {
      "text/html": [
       "<div>\n",
       "<style scoped>\n",
       "    .dataframe tbody tr th:only-of-type {\n",
       "        vertical-align: middle;\n",
       "    }\n",
       "\n",
       "    .dataframe tbody tr th {\n",
       "        vertical-align: top;\n",
       "    }\n",
       "\n",
       "    .dataframe thead th {\n",
       "        text-align: right;\n",
       "    }\n",
       "</style>\n",
       "<table border=\"1\" class=\"dataframe\">\n",
       "  <thead>\n",
       "    <tr style=\"text-align: right;\">\n",
       "      <th></th>\n",
       "      <th>Monuments</th>\n",
       "      <th>Location</th>\n",
       "    </tr>\n",
       "  </thead>\n",
       "  <tbody>\n",
       "    <tr>\n",
       "      <th>0</th>\n",
       "      <td>Temple Mount</td>\n",
       "      <td>31.7781° N, 35.2360° E</td>\n",
       "    </tr>\n",
       "    <tr>\n",
       "      <th>1</th>\n",
       "      <td>Pyramids of Giza</td>\n",
       "      <td>29.9773° N, 31.1325° E</td>\n",
       "    </tr>\n",
       "    <tr>\n",
       "      <th>2</th>\n",
       "      <td>Chichen Itza</td>\n",
       "      <td>20.6843° N, 88.5678° W</td>\n",
       "    </tr>\n",
       "    <tr>\n",
       "      <th>3</th>\n",
       "      <td>Moai Statues</td>\n",
       "      <td>-27.104671, -109.360481</td>\n",
       "    </tr>\n",
       "    <tr>\n",
       "      <th>4</th>\n",
       "      <td>The Colosseum</td>\n",
       "      <td>41.8902° N, 12.4922° E</td>\n",
       "    </tr>\n",
       "    <tr>\n",
       "      <th>5</th>\n",
       "      <td>The Great Wall of China</td>\n",
       "      <td>40.4319° N, 116.5704° E</td>\n",
       "    </tr>\n",
       "    <tr>\n",
       "      <th>6</th>\n",
       "      <td>Angkor Wat</td>\n",
       "      <td>13.4125° N, 103.8670° E</td>\n",
       "    </tr>\n",
       "    <tr>\n",
       "      <th>7</th>\n",
       "      <td>Petra</td>\n",
       "      <td>30.3285° N, 35.4444° E</td>\n",
       "    </tr>\n",
       "    <tr>\n",
       "      <th>8</th>\n",
       "      <td>Taj Mahal</td>\n",
       "      <td>27.1751° N, 78.0421° E</td>\n",
       "    </tr>\n",
       "    <tr>\n",
       "      <th>9</th>\n",
       "      <td>Machu Picchu</td>\n",
       "      <td>13.1631° S, 72.5450° W</td>\n",
       "    </tr>\n",
       "  </tbody>\n",
       "</table>\n",
       "</div>"
      ],
      "text/plain": [
       "                 Monuments                 Location\n",
       "0             Temple Mount   31.7781° N, 35.2360° E\n",
       "1         Pyramids of Giza   29.9773° N, 31.1325° E\n",
       "2             Chichen Itza   20.6843° N, 88.5678° W\n",
       "3             Moai Statues  -27.104671, -109.360481\n",
       "4            The Colosseum   41.8902° N, 12.4922° E\n",
       "5  The Great Wall of China  40.4319° N, 116.5704° E\n",
       "6               Angkor Wat  13.4125° N, 103.8670° E\n",
       "7                    Petra   30.3285° N, 35.4444° E\n",
       "8                Taj Mahal   27.1751° N, 78.0421° E\n",
       "9             Machu Picchu   13.1631° S, 72.5450° W"
      ]
     },
     "execution_count": 4,
     "metadata": {},
     "output_type": "execute_result"
    }
   ],
   "source": [
    "monuments"
   ]
  },
  {
   "cell_type": "code",
   "execution_count": 5,
   "metadata": {},
   "outputs": [],
   "source": [
    "monuments.to_csv(\"monuments.csv\")"
   ]
  },
  {
   "cell_type": "code",
   "execution_count": null,
   "metadata": {},
   "outputs": [],
   "source": []
  }
 ],
 "metadata": {
  "kernelspec": {
   "display_name": "Python 3",
   "language": "python",
   "name": "python3"
  },
  "language_info": {
   "codemirror_mode": {
    "name": "ipython",
    "version": 3
   },
   "file_extension": ".py",
   "mimetype": "text/x-python",
   "name": "python",
   "nbconvert_exporter": "python",
   "pygments_lexer": "ipython3",
   "version": "3.7.3"
  }
 },
 "nbformat": 4,
 "nbformat_minor": 2
}
